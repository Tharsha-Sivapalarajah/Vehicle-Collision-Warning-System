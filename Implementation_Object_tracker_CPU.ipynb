{
 "cells": [
  {
   "cell_type": "markdown",
   "metadata": {
    "id": "9mqB1RTLGzyH"
   },
   "source": [
    "<table align=\"left\">\n",
    "  <td>\n",
    "<a target=\"_blank\" href=\"https://colab.research.google.com/github/lopezbec/Traffic_Accident_Detection/blob/master/Yolov3_DeepSort/CPU/Implementation_Object_tracker_CPU.ipynb\"><img src=\"https://www.tensorflow.org/images/colab_logo_32px.png\" />Run in Google Colab</a>\n",
    "        </td>\n",
    "</table>"
   ]
  },
  {
   "cell_type": "markdown",
   "metadata": {
    "id": "7sHmZKgYUh1M"
   },
   "source": [
    "### Housekeeping Notes:"
   ]
  },
  {
   "cell_type": "markdown",
   "metadata": {
    "id": "m86SZCRpyLAM"
   },
   "source": [
    "Before you  start working with this notebook, you need to first \"mount\" your Google Drive in the runtime's Virtual Machine. This will allow you to read and save files from your own Google Drive. \n",
    "\n",
    "To do this, you need to provide the path of your Google Drive for  the folder of this assignment. Once you provide this information, run this code cell below and follow the instructions. \n"
   ]
  },
  {
   "cell_type": "code",
   "execution_count": null,
   "metadata": {
    "cellView": "both",
    "colab": {
     "base_uri": "https://localhost:8080/",
     "height": 51
    },
    "executionInfo": {
     "elapsed": 22704,
     "status": "ok",
     "timestamp": 1602299979134,
     "user": {
      "displayName": "orlin cury",
      "photoUrl": "https://lh3.googleusercontent.com/a-/AOh14GhEPutCVT53jKEChAkeVRi3cHs3kzJwLSboiQwAI9U=s64",
      "userId": "09148900503409813695"
     },
     "user_tz": 240
    },
    "id": "E9O9uEy8yKxY",
    "outputId": "2d2e59e7-d4ed-45d3-88bb-3c85df00d01f"
   },
   "outputs": [
    {
     "name": "stdout",
     "output_type": "stream",
     "text": [
      "Mounted at /content/gdrive\n",
      "current directory is : /content/gdrive/Shared drives/GitHub FONDOCYT/Yolov3_DeepSort/CPU\n"
     ]
    }
   ],
   "source": [
    "import os\n",
    "from google.colab import drive \n",
    "\n",
    "drive.mount('/content/gdrive')\n",
    "\n",
    "Working_Directory = 'Shared drives/GitHub FONDOCYT/Yolov3_DeepSort/CPU' #@param {type:\"string\"}\n",
    "wd=\"/content/gdrive/\"+Working_Directory\n",
    "os.chdir(wd)\n",
    "\n",
    "\n",
    "dirpath = os.getcwd()\n",
    "print(\"current directory is : \" + dirpath)\n",
    "\n",
    "\n",
    "\n"
   ]
  },
  {
   "cell_type": "markdown",
   "metadata": {
    "id": "t2sRosoUPC4P"
   },
   "source": [
    "Before we begin, we need to install all the requirements"
   ]
  },
  {
   "cell_type": "code",
   "execution_count": null,
   "metadata": {
    "colab": {
     "base_uri": "https://localhost:8080/",
     "height": 1000
    },
    "collapsed": true,
    "executionInfo": {
     "elapsed": 49740,
     "status": "ok",
     "timestamp": 1602300032082,
     "user": {
      "displayName": "orlin cury",
      "photoUrl": "https://lh3.googleusercontent.com/a-/AOh14GhEPutCVT53jKEChAkeVRi3cHs3kzJwLSboiQwAI9U=s64",
      "userId": "09148900503409813695"
     },
     "user_tz": 240
    },
    "id": "_WLjTlzE79IS",
    "outputId": "cd5cd51d-822e-4292-be49-1f801c686a10"
   },
   "outputs": [
    {
     "name": "stdout",
     "output_type": "stream",
     "text": [
      "\u001b[31mERROR: Could not find a version that satisfies the requirement tensorflow==2.0.1 (from -r requirements.txt (line 1)) (from versions: 2.2.0rc1, 2.2.0rc2, 2.2.0rc3, 2.2.0rc4, 2.2.0, 2.2.1, 2.3.0rc0, 2.3.0rc1, 2.3.0rc2, 2.3.0, 2.3.1)\u001b[0m\n",
      "\u001b[31mERROR: No matching distribution found for tensorflow==2.0.1 (from -r requirements.txt (line 1))\u001b[0m\n",
      "All Requirements were installed!\n"
     ]
    }
   ],
   "source": [
    "#installing requirements\n",
    "!pip install -r requirements.txt\n",
    "from IPython.display import clear_output\n",
    "#clear_output()\n",
    "print(\"All Requirements were installed!\")"
   ]
  },
  {
   "cell_type": "markdown",
   "metadata": {
    "id": "ZTjCqb-LGzyz"
   },
   "source": [
    "Run this cell to download the weight files."
   ]
  },
  {
   "cell_type": "code",
   "execution_count": null,
   "metadata": {
    "collapsed": true,
    "id": "7FRQUS7RGzy2",
    "outputId": "a40af682-5ac1-46f0-de07-8bd222baff30"
   },
   "outputs": [
    {
     "name": "stdout",
     "output_type": "stream",
     "text": [
      "--2020-10-24 00:07:05--  https://pjreddie.com/media/files/yolov3.weights\n",
      "Resolviendo pjreddie.com (pjreddie.com)... 128.208.4.108\n",
      "Conectando con pjreddie.com (pjreddie.com)[128.208.4.108]:443... conectado.\n",
      "Petición HTTP enviada, esperando respuesta... 200 OK\n",
      "Longitud: 248007048 (237M) [application/octet-stream]\n",
      "Guardando como: “weights/yolov3.weights”\n",
      "\n",
      "weights/yolov3.weig  60%[===========>        ] 142.66M   196KB/s    eta 7m 38s ^C\n"
     ]
    }
   ],
   "source": [
    "#Downloading the weigts\n",
    "!wget https://pjreddie.com/media/files/yolov3.weights -O weights/yolov3.weights"
   ]
  },
  {
   "cell_type": "markdown",
   "metadata": {
    "id": "-01ZuGy22yVh"
   },
   "source": [
    "**Loading the weight files** "
   ]
  },
  {
   "cell_type": "code",
   "execution_count": null,
   "metadata": {
    "colab": {
     "base_uri": "https://localhost:8080/",
     "height": 1000
    },
    "collapsed": true,
    "executionInfo": {
     "elapsed": 20515,
     "status": "ok",
     "timestamp": 1602300055624,
     "user": {
      "displayName": "orlin cury",
      "photoUrl": "https://lh3.googleusercontent.com/a-/AOh14GhEPutCVT53jKEChAkeVRi3cHs3kzJwLSboiQwAI9U=s64",
      "userId": "09148900503409813695"
     },
     "user_tz": 240
    },
    "id": "kdjlenpF28Bo",
    "outputId": "58e5b42e-c345-407c-d39f-1d795506d2fb"
   },
   "outputs": [
    {
     "name": "stdout",
     "output_type": "stream",
     "text": [
      "2020-10-10 03:20:40.531257: I tensorflow/core/platform/cpu_feature_guard.cc:142] Your CPU supports instructions that this TensorFlow binary was not compiled to use: AVX2 FMA\n",
      "2020-10-10 03:20:40.535335: I tensorflow/core/platform/profile_utils/cpu_utils.cc:94] CPU Frequency: 2200000000 Hz\n",
      "2020-10-10 03:20:40.535550: I tensorflow/compiler/xla/service/service.cc:168] XLA service 0x1f24bc0 executing computations on platform Host. Devices:\n",
      "2020-10-10 03:20:40.535584: I tensorflow/compiler/xla/service/service.cc:175]   StreamExecutor device (0): Host, Default Version\n",
      "Model: \"yolov3\"\n",
      "__________________________________________________________________________________________________\n",
      "Layer (type)                    Output Shape         Param #     Connected to                     \n",
      "==================================================================================================\n",
      "input (InputLayer)              [(None, None, None,  0                                            \n",
      "__________________________________________________________________________________________________\n",
      "yolo_darknet (Model)            ((None, None, None,  40620640    input[0][0]                      \n",
      "__________________________________________________________________________________________________\n",
      "yolo_conv_0 (Model)             (None, None, None, 5 11024384    yolo_darknet[1][2]               \n",
      "__________________________________________________________________________________________________\n",
      "yolo_conv_1 (Model)             (None, None, None, 2 2957312     yolo_conv_0[1][0]                \n",
      "                                                                 yolo_darknet[1][1]               \n",
      "__________________________________________________________________________________________________\n",
      "yolo_conv_2 (Model)             (None, None, None, 1 741376      yolo_conv_1[1][0]                \n",
      "                                                                 yolo_darknet[1][0]               \n",
      "__________________________________________________________________________________________________\n",
      "yolo_output_0 (Model)           (None, None, None, 3 4984063     yolo_conv_0[1][0]                \n",
      "__________________________________________________________________________________________________\n",
      "yolo_output_1 (Model)           (None, None, None, 3 1312511     yolo_conv_1[1][0]                \n",
      "__________________________________________________________________________________________________\n",
      "yolo_output_2 (Model)           (None, None, None, 3 361471      yolo_conv_2[1][0]                \n",
      "__________________________________________________________________________________________________\n",
      "yolo_boxes_0 (Lambda)           ((None, None, None,  0           yolo_output_0[1][0]              \n",
      "__________________________________________________________________________________________________\n",
      "yolo_boxes_1 (Lambda)           ((None, None, None,  0           yolo_output_1[1][0]              \n",
      "__________________________________________________________________________________________________\n",
      "yolo_boxes_2 (Lambda)           ((None, None, None,  0           yolo_output_2[1][0]              \n",
      "__________________________________________________________________________________________________\n",
      "yolo_nms (Lambda)               ((None, 100, 4), (No 0           yolo_boxes_0[0][0]               \n",
      "                                                                 yolo_boxes_0[0][1]               \n",
      "                                                                 yolo_boxes_0[0][2]               \n",
      "                                                                 yolo_boxes_1[0][0]               \n",
      "                                                                 yolo_boxes_1[0][1]               \n",
      "                                                                 yolo_boxes_1[0][2]               \n",
      "                                                                 yolo_boxes_2[0][0]               \n",
      "                                                                 yolo_boxes_2[0][1]               \n",
      "                                                                 yolo_boxes_2[0][2]               \n",
      "==================================================================================================\n",
      "Total params: 62,001,757\n",
      "Trainable params: 61,949,149\n",
      "Non-trainable params: 52,608\n",
      "__________________________________________________________________________________________________\n",
      "I1010 03:20:48.503313 140511501088640 load_weights.py:19] model created\n",
      "I1010 03:20:48.927364 140511501088640 utils.py:47] yolo_darknet/conv2d bn\n",
      "I1010 03:20:48.931950 140511501088640 utils.py:47] yolo_darknet/conv2d_1 bn\n",
      "I1010 03:20:48.935959 140511501088640 utils.py:47] yolo_darknet/conv2d_2 bn\n",
      "I1010 03:20:48.939011 140511501088640 utils.py:47] yolo_darknet/conv2d_3 bn\n",
      "I1010 03:20:49.248793 140511501088640 utils.py:47] yolo_darknet/conv2d_4 bn\n",
      "I1010 03:20:49.255534 140511501088640 utils.py:47] yolo_darknet/conv2d_5 bn\n",
      "I1010 03:20:49.266000 140511501088640 utils.py:47] yolo_darknet/conv2d_6 bn\n",
      "I1010 03:20:49.272994 140511501088640 utils.py:47] yolo_darknet/conv2d_7 bn\n",
      "I1010 03:20:49.276201 140511501088640 utils.py:47] yolo_darknet/conv2d_8 bn\n",
      "I1010 03:20:49.281869 140511501088640 utils.py:47] yolo_darknet/conv2d_9 bn\n",
      "I1010 03:20:49.295160 140511501088640 utils.py:47] yolo_darknet/conv2d_10 bn\n",
      "I1010 03:20:49.302390 140511501088640 utils.py:47] yolo_darknet/conv2d_11 bn\n",
      "I1010 03:20:49.316779 140511501088640 utils.py:47] yolo_darknet/conv2d_12 bn\n",
      "I1010 03:20:49.331469 140511501088640 utils.py:47] yolo_darknet/conv2d_13 bn\n",
      "I1010 03:20:49.344183 140511501088640 utils.py:47] yolo_darknet/conv2d_14 bn\n",
      "I1010 03:20:49.350592 140511501088640 utils.py:47] yolo_darknet/conv2d_15 bn\n",
      "I1010 03:20:49.366010 140511501088640 utils.py:47] yolo_darknet/conv2d_16 bn\n",
      "I1010 03:20:49.375177 140511501088640 utils.py:47] yolo_darknet/conv2d_17 bn\n",
      "I1010 03:20:49.390153 140511501088640 utils.py:47] yolo_darknet/conv2d_18 bn\n",
      "I1010 03:20:49.400989 140511501088640 utils.py:47] yolo_darknet/conv2d_19 bn\n",
      "I1010 03:20:49.418427 140511501088640 utils.py:47] yolo_darknet/conv2d_20 bn\n",
      "I1010 03:20:49.430564 140511501088640 utils.py:47] yolo_darknet/conv2d_21 bn\n",
      "I1010 03:20:49.445049 140511501088640 utils.py:47] yolo_darknet/conv2d_22 bn\n",
      "I1010 03:20:49.456286 140511501088640 utils.py:47] yolo_darknet/conv2d_23 bn\n",
      "I1010 03:20:49.471339 140511501088640 utils.py:47] yolo_darknet/conv2d_24 bn\n",
      "I1010 03:20:49.483290 140511501088640 utils.py:47] yolo_darknet/conv2d_25 bn\n",
      "I1010 03:20:49.498764 140511501088640 utils.py:47] yolo_darknet/conv2d_26 bn\n",
      "I1010 03:20:49.530945 140511501088640 utils.py:47] yolo_darknet/conv2d_27 bn\n",
      "I1010 03:20:49.540875 140511501088640 utils.py:47] yolo_darknet/conv2d_28 bn\n",
      "I1010 03:20:49.580542 140511501088640 utils.py:47] yolo_darknet/conv2d_29 bn\n",
      "I1010 03:20:49.591256 140511501088640 utils.py:47] yolo_darknet/conv2d_30 bn\n",
      "I1010 03:20:49.623382 140511501088640 utils.py:47] yolo_darknet/conv2d_31 bn\n",
      "I1010 03:20:49.635596 140511501088640 utils.py:47] yolo_darknet/conv2d_32 bn\n",
      "I1010 03:20:49.668246 140511501088640 utils.py:47] yolo_darknet/conv2d_33 bn\n",
      "I1010 03:20:49.680737 140511501088640 utils.py:47] yolo_darknet/conv2d_34 bn\n",
      "I1010 03:20:49.709997 140511501088640 utils.py:47] yolo_darknet/conv2d_35 bn\n",
      "I1010 03:20:49.722661 140511501088640 utils.py:47] yolo_darknet/conv2d_36 bn\n",
      "I1010 03:20:49.753871 140511501088640 utils.py:47] yolo_darknet/conv2d_37 bn\n",
      "I1010 03:20:49.766801 140511501088640 utils.py:47] yolo_darknet/conv2d_38 bn\n",
      "I1010 03:20:49.814915 140511501088640 utils.py:47] yolo_darknet/conv2d_39 bn\n",
      "I1010 03:20:49.829762 140511501088640 utils.py:47] yolo_darknet/conv2d_40 bn\n",
      "I1010 03:20:49.861109 140511501088640 utils.py:47] yolo_darknet/conv2d_41 bn\n",
      "I1010 03:20:49.873592 140511501088640 utils.py:47] yolo_darknet/conv2d_42 bn\n",
      "I1010 03:20:49.902882 140511501088640 utils.py:47] yolo_darknet/conv2d_43 bn\n",
      "I1010 03:20:50.271169 140511501088640 utils.py:47] yolo_darknet/conv2d_44 bn\n",
      "I1010 03:20:50.281213 140511501088640 utils.py:47] yolo_darknet/conv2d_45 bn\n",
      "I1010 03:20:50.627272 140511501088640 utils.py:47] yolo_darknet/conv2d_46 bn\n",
      "I1010 03:20:50.694457 140511501088640 utils.py:47] yolo_darknet/conv2d_47 bn\n",
      "I1010 03:20:50.775897 140511501088640 utils.py:47] yolo_darknet/conv2d_48 bn\n",
      "I1010 03:20:50.786185 140511501088640 utils.py:47] yolo_darknet/conv2d_49 bn\n",
      "I1010 03:20:50.874970 140511501088640 utils.py:47] yolo_darknet/conv2d_50 bn\n",
      "I1010 03:20:50.884491 140511501088640 utils.py:47] yolo_darknet/conv2d_51 bn\n",
      "I1010 03:20:50.957667 140511501088640 utils.py:47] yolo_conv_0/conv2d_52 bn\n",
      "I1010 03:20:50.965522 140511501088640 utils.py:47] yolo_conv_0/conv2d_53 bn\n",
      "I1010 03:20:51.038478 140511501088640 utils.py:47] yolo_conv_0/conv2d_54 bn\n",
      "I1010 03:20:51.046744 140511501088640 utils.py:47] yolo_conv_0/conv2d_55 bn\n",
      "I1010 03:20:51.119995 140511501088640 utils.py:47] yolo_conv_0/conv2d_56 bn\n",
      "I1010 03:20:51.128390 140511501088640 utils.py:47] yolo_output_0/conv2d_57 bn\n",
      "I1010 03:20:51.196929 140511501088640 utils.py:47] yolo_output_0/conv2d_58 bias\n",
      "I1010 03:20:51.200931 140511501088640 utils.py:47] yolo_conv_1/conv2d_59 bn\n",
      "I1010 03:20:51.203835 140511501088640 utils.py:47] yolo_conv_1/conv2d_60 bn\n",
      "I1010 03:20:51.206613 140511501088640 utils.py:47] yolo_conv_1/conv2d_61 bn\n",
      "I1010 03:20:51.218913 140511501088640 utils.py:47] yolo_conv_1/conv2d_62 bn\n",
      "I1010 03:20:51.221754 140511501088640 utils.py:47] yolo_conv_1/conv2d_63 bn\n",
      "I1010 03:20:51.233499 140511501088640 utils.py:47] yolo_conv_1/conv2d_64 bn\n",
      "I1010 03:20:51.236309 140511501088640 utils.py:47] yolo_output_1/conv2d_65 bn\n",
      "I1010 03:20:51.248579 140511501088640 utils.py:47] yolo_output_1/conv2d_66 bias\n",
      "I1010 03:20:51.252261 140511501088640 utils.py:47] yolo_conv_2/conv2d_67 bn\n",
      "I1010 03:20:51.255298 140511501088640 utils.py:47] yolo_conv_2/conv2d_68 bn\n",
      "I1010 03:20:51.257210 140511501088640 utils.py:47] yolo_conv_2/conv2d_69 bn\n",
      "I1010 03:20:51.261410 140511501088640 utils.py:47] yolo_conv_2/conv2d_70 bn\n",
      "I1010 03:20:51.263190 140511501088640 utils.py:47] yolo_conv_2/conv2d_71 bn\n",
      "I1010 03:20:51.267242 140511501088640 utils.py:47] yolo_conv_2/conv2d_72 bn\n",
      "I1010 03:20:51.269388 140511501088640 utils.py:47] yolo_output_2/conv2d_73 bn\n",
      "I1010 03:20:51.273019 140511501088640 utils.py:47] yolo_output_2/conv2d_74 bias\n",
      "I1010 03:20:51.274373 140511501088640 load_weights.py:22] weights loaded\n",
      "I1010 03:20:52.664058 140511501088640 load_weights.py:26] sanity check passed\n",
      "I1010 03:20:54.168992 140511501088640 load_weights.py:29] weights saved\n",
      "Weights were loaded!\n"
     ]
    }
   ],
   "source": [
    "# yolov3\n",
    "!python load_weights.py\n",
    "#clear_output()\n",
    "print(\"Weights were loaded!\")"
   ]
  },
  {
   "cell_type": "markdown",
   "metadata": {
    "id": "P9Sc0WV63YXY"
   },
   "source": [
    "#**Runing the tracker**\n",
    "You can run the tracker setting the video input and the output path for the resulting video.\n",
    "\n",
    "Note: for this case the resulting video is allways going to be a .avi file.\n",
    "\n",
    "Everytime the tracker is excecuted it is going to create/update a \".json\" file containing:\n",
    "\n",
    "\n",
    "*   Frame: the number of frame where the detection is made from.\n",
    "*   Track_id: an identification given to every object detected in the video.\n",
    "*   Class: the class of object detected.\n",
    "*   Center: this is going to be a set of coordinates x and y pointing to the center of the object detected in every case.\n",
    "*   Detection_box: this is a set of tow pairs of coordinates x and y, pointing to the starting and ending point for the rectangle drawned around every detection, this is going to be the next way (start_x, start_y,end_x,endy).\n",
    "\n",
    "\n",
    "\n",
    "\n",
    "\n",
    "\n"
   ]
  },
  {
   "cell_type": "code",
   "execution_count": null,
   "metadata": {
    "colab": {
     "base_uri": "https://localhost:8080/",
     "height": 442
    },
    "collapsed": true,
    "executionInfo": {
     "elapsed": 456566,
     "status": "ok",
     "timestamp": 1602305323621,
     "user": {
      "displayName": "orlin cury",
      "photoUrl": "https://lh3.googleusercontent.com/a-/AOh14GhEPutCVT53jKEChAkeVRi3cHs3kzJwLSboiQwAI9U=s64",
      "userId": "09148900503409813695"
     },
     "user_tz": 240
    },
    "id": "Of1vf_A13mal",
    "outputId": "063fec84-9df2-45ed-b336-7fec40431a42"
   },
   "outputs": [
    {
     "name": "stdout",
     "output_type": "stream",
     "text": [
      "2020-10-10 04:41:10.997301: I tensorflow/core/platform/cpu_feature_guard.cc:142] Your CPU supports instructions that this TensorFlow binary was not compiled to use: AVX2 FMA\n",
      "2020-10-10 04:41:11.002425: I tensorflow/core/platform/profile_utils/cpu_utils.cc:94] CPU Frequency: 2200000000 Hz\n",
      "2020-10-10 04:41:11.003031: I tensorflow/compiler/xla/service/service.cc:168] XLA service 0x2232840 executing computations on platform Host. Devices:\n",
      "2020-10-10 04:41:11.003088: I tensorflow/compiler/xla/service/service.cc:175]   StreamExecutor device (0): Host, Default Version\n",
      "I1010 04:41:19.962757 139649291483008 object_tracker.py:56] weights loaded\n",
      "I1010 04:41:19.964593 139649291483008 object_tracker.py:59] classes loaded\n",
      "W1010 04:48:41.415234 139649291483008 object_tracker.py:85] Empty Frame\n",
      "W1010 04:48:41.516614 139649291483008 object_tracker.py:85] Empty Frame\n",
      "W1010 04:48:41.617725 139649291483008 object_tracker.py:85] Empty Frame\n",
      "Traceback (most recent call last):\n",
      "  File \"object_tracker.py\", line 182, in <module>\n",
      "    app.run(main)\n",
      "  File \"/usr/local/lib/python3.6/dist-packages/absl/app.py\", line 300, in run\n",
      "    _run_main(main, args)\n",
      "  File \"/usr/local/lib/python3.6/dist-packages/absl/app.py\", line 251, in _run_main\n",
      "    sys.exit(main(argv))\n",
      "  File \"object_tracker.py\", line 172, in main\n",
      "    if FLAGS.ouput:\n",
      "  File \"/usr/local/lib/python3.6/dist-packages/absl/flags/_flagvalues.py\", line 480, in __getattr__\n",
      "    raise AttributeError(name)\n",
      "AttributeError: ouput\n",
      "\n",
      "        Video object tracking is done, go to /data/video\n",
      "        to see the resulting video...\n",
      "\n"
     ]
    }
   ],
   "source": [
    "# yolov3 on video\n",
    "!python object_tracker.py --video ./data/video/test.mp4 --output ./data/video/results.avi\n",
    "#clear_output()\n",
    "print('''\n",
    "        Video object tracking is done, go to /data/video\n",
    "        to see the resulting video...\n",
    "''')"
   ]
  }
 ],
 "metadata": {
  "colab": {
   "collapsed_sections": [],
   "name": "Implementation_Object_tracker.ipynb",
   "provenance": [],
   "toc_visible": true
  },
  "kernelspec": {
   "display_name": "Python 3",
   "language": "python",
   "name": "python3"
  },
  "language_info": {
   "codemirror_mode": {
    "name": "ipython",
    "version": 3
   },
   "file_extension": ".py",
   "mimetype": "text/x-python",
   "name": "python",
   "nbconvert_exporter": "python",
   "pygments_lexer": "ipython3",
   "version": "3.6.10"
  }
 },
 "nbformat": 4,
 "nbformat_minor": 1
}
